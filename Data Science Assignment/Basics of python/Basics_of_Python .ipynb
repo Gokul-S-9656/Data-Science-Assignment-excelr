{
  "nbformat": 4,
  "nbformat_minor": 0,
  "metadata": {
    "colab": {
      "provenance": []
    },
    "kernelspec": {
      "name": "python3",
      "display_name": "Python 3"
    },
    "language_info": {
      "name": "python"
    }
  },
  "cells": [
    {
      "cell_type": "markdown",
      "source": [
        "# **CHECK GIVEN NUMBER IS PRIME OR NOT:**\n",
        "Write a Python program that checks whether a given number is prime or not. A prime number is a natural number greater than 1 that has no positive divisors other than 1 and itself."
      ],
      "metadata": {
        "id": "6u6LrlSzBneQ"
      }
    },
    {
      "cell_type": "code",
      "execution_count": null,
      "metadata": {
        "colab": {
          "base_uri": "https://localhost:8080/"
        },
        "id": "qtkBD33vBY2g",
        "outputId": "fce3bddc-6719-49ed-9564-4b75988f295a"
      },
      "outputs": [
        {
          "output_type": "stream",
          "name": "stdout",
          "text": [
            "Enter Number:5\n",
            "5 is a prime number\n"
          ]
        }
      ],
      "source": [
        "Num = int(input(\"Enter Number:\")) #take number as user input\n",
        "if Num > 1: #if the number greater than 1 following loop will excecute\n",
        "    for i in range(2,Num//2+1):#take range from 2 to off of the given number\n",
        "        if Num%i==0:#check the number is divisible by any number or not\n",
        "            print(Num,\"is not a prime number\")\n",
        "            break#if the condition satisfy then the loop will close\n",
        "        else:\n",
        "            print(Num,\"is a prime number\")#else this condition will execute\n",
        "            break\n",
        "else:\n",
        "    print(Num,\"is not a prime number\")#if given number is less than 1 then it will this statement\n"
      ]
    },
    {
      "cell_type": "markdown",
      "source": [
        "# **Product of Random Numbers:**\n",
        "Develop a Python program that generates two random numbers and asks the user to enter the product of these numbers. The program should then check if the user's answer is correct and display an appropriate message"
      ],
      "metadata": {
        "id": "f7oi9W-UCuQP"
      }
    },
    {
      "cell_type": "code",
      "source": [
        "import random#importing random method for generating random numbers\n",
        "Num1=random.randrange(10)#generating 2 random numbers\n",
        "Num2=random.randrange(10)\n",
        "res=Num1*Num2#product of two random numbers\n",
        "res1 = int(input(\"Enter Number:\"))#take the user input\n",
        "if res==res1:#check the user input match with product of 2 random numbers\n",
        "    print(\"Congratulations!You are win\")\n",
        "else:\n",
        "    print(\"Sorry!you are lose\")\n"
      ],
      "metadata": {
        "colab": {
          "base_uri": "https://localhost:8080/"
        },
        "id": "eDAnCEZsC2DA",
        "outputId": "44c1b26c-a83e-4de2-d3aa-fab2bfcfbef9"
      },
      "execution_count": null,
      "outputs": [
        {
          "output_type": "stream",
          "name": "stdout",
          "text": [
            "Enter Number:8\n",
            "Sorry!you are lose\n"
          ]
        }
      ]
    },
    {
      "cell_type": "markdown",
      "source": [
        "\n",
        "# **Squares of Even/Odd Numbers**\n",
        "Create a Python script that prints the squares of all even or odd numbers within the range of 100 to 200. Choose either even or odd numbers and document your choice in the code."
      ],
      "metadata": {
        "id": "M9cOJFirDEhm"
      }
    },
    {
      "cell_type": "code",
      "source": [
        "list1=[]\n",
        "for i in range(100,201,2):#take range from 100 to 200 with the step 2 to get only even numbers\n",
        "    list1.append(i**2)#append squared number to list because when we print it directly it will generate long output\n",
        "print(list1)"
      ],
      "metadata": {
        "colab": {
          "base_uri": "https://localhost:8080/"
        },
        "id": "LzxiHR_pDNos",
        "outputId": "78cbca7f-7815-46e6-9da4-329b72e9b1c1"
      },
      "execution_count": null,
      "outputs": [
        {
          "output_type": "stream",
          "name": "stdout",
          "text": [
            "[10000, 10404, 10816, 11236, 11664, 12100, 12544, 12996, 13456, 13924, 14400, 14884, 15376, 15876, 16384, 16900, 17424, 17956, 18496, 19044, 19600, 20164, 20736, 21316, 21904, 22500, 23104, 23716, 24336, 24964, 25600, 26244, 26896, 27556, 28224, 28900, 29584, 30276, 30976, 31684, 32400, 33124, 33856, 34596, 35344, 36100, 36864, 37636, 38416, 39204, 40000]\n"
          ]
        }
      ]
    },
    {
      "cell_type": "markdown",
      "source": [
        "# **Word Counter:**\n",
        "\n",
        "\n",
        "*   write a program to count the number of words in a given text.\n",
        "\n",
        "*   example:\n",
        "\n",
        "*  input_text = \"This is a sample text. This text will be used to demonstrate the word counter.\"\n",
        "\n",
        "*   Expected output:\n",
        "\n",
        "*  'This': 2\n",
        "*  'is': 1\n",
        "\n",
        "\n",
        "* 'a': 1  \n",
        "\n",
        "\n",
        "* 'sample': 1  \n",
        "\n",
        "\n",
        "*  'text.': 1\n"
      ],
      "metadata": {
        "id": "NfVJclo9DT-5"
      }
    },
    {
      "cell_type": "code",
      "source": [
        "String = list(input(\"Enter Text:\").split(\" \"))#take user input as string and separate it with space and assign separated elements into list\n",
        "dict1 = {}\n",
        "for i in String:\n",
        "    dict1[i]= String.count(i)#assign each elemets and it's count to dictionary to remove duplicates\n",
        "print(dict1)"
      ],
      "metadata": {
        "colab": {
          "base_uri": "https://localhost:8080/"
        },
        "id": "79X_vtFpEUHS",
        "outputId": "c97e4ad3-77d8-4917-825c-7dfebe0406a1"
      },
      "execution_count": null,
      "outputs": [
        {
          "output_type": "stream",
          "name": "stdout",
          "text": [
            "Enter Text:This is a sample text. This test will be used to demonstrate the word counter\n",
            "{'This': 2, 'is': 1, 'a': 1, 'sample': 1, 'text.': 1, 'test': 1, 'will': 1, 'be': 1, 'used': 1, 'to': 1, 'demonstrate': 1, 'the': 1, 'word': 1, 'counter': 1}\n"
          ]
        }
      ]
    },
    {
      "cell_type": "markdown",
      "source": [
        "\n",
        "# **Check for Palindrome**\n",
        "Write a Python function called is_palindrome that takes a string as input and returns True if the string is a palindrome, and False otherwise. A palindrome is a word, phrase, number, or other sequence of characters that reads the same forward and backward, ignoring spaces, punctuation, and capitalization. Example: Input: \"racecar\" Expected Output: True"
      ],
      "metadata": {
        "id": "KOi3p88qFP75"
      }
    },
    {
      "cell_type": "code",
      "source": [
        "String = input(\"Enter String:\")\n",
        "New_String = ''.join(e for e in String if e.isalnum())#remove  spaces, punctuation and make it as new string\n",
        "if New_String.lower()==New_String.lower()[::-1]:#check the string is palindrome or not\n",
        "    print(String,\"is a palindrome\")\n",
        "else:\n",
        "    print(String,\"is not a palindrome\" )"
      ],
      "metadata": {
        "colab": {
          "base_uri": "https://localhost:8080/"
        },
        "id": "iaJLUT-uFhes",
        "outputId": "8187c8b5-3225-4b9f-eaae-3a360e73d12c"
      },
      "execution_count": null,
      "outputs": [
        {
          "output_type": "stream",
          "name": "stdout",
          "text": [
            "Enter String:MALAYALAM\n",
            "MALAYALAM is a palindrome\n"
          ]
        }
      ]
    }
  ]
}