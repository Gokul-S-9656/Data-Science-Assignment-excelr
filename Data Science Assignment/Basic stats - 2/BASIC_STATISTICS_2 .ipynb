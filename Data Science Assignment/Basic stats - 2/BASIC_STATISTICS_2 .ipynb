{
  "nbformat": 4,
  "nbformat_minor": 0,
  "metadata": {
    "colab": {
      "provenance": []
    },
    "kernelspec": {
      "name": "python3",
      "display_name": "Python 3"
    },
    "language_info": {
      "name": "python"
    }
  },
  "cells": [
    {
      "cell_type": "code",
      "execution_count": null,
      "metadata": {
        "colab": {
          "base_uri": "https://localhost:8080/"
        },
        "id": "toAsW0FF7rAU",
        "outputId": "8edd201f-ee76-4542-cb3a-c57ca763da14"
      },
      "outputs": [
        {
          "output_type": "stream",
          "name": "stdout",
          "text": [
            "[1.13, 1.55, 1.43, 0.92, 1.25, 1.36, 1.32, 0.85, 1.07, 1.48, 1.2, 1.33, 1.18, 1.22, 1.29]\n"
          ]
        }
      ],
      "source": [
        "data=[1.13, 1.55, 1.43, 0.92, 1.25, 1.36, 1.32, 0.85, 1.07, 1.48, 1.20, 1.33, 1.18, 1.22, 1.29] #Store the data into data variable\n",
        "print(data)   #displaying the stored data"
      ]
    },
    {
      "cell_type": "code",
      "source": [
        "def Avg(x): #Creating function for calculating mean\n",
        "    return sum(x)/len(x) #Calculating the mean of the data\n",
        "\n",
        "def std_dev(x): #Creating function for calculating standard deviation\n",
        "    return (sum((i-Avg(x))**2 for i in x)/(len(x)-1))**0.5 #Calculating the standard deviation of the data\n",
        "\n",
        "mean = round(Avg(data),3) #make the mean value upto 3 decimals\n",
        "stan_dev = round(std_dev(data),3) #make standard deviation value upto 3 decimals\n",
        "print(\"Mean: \",mean) #display the mean value\n",
        "print(\"Standard Deviation: \",stan_dev) #display the standard deviation value"
      ],
      "metadata": {
        "colab": {
          "base_uri": "https://localhost:8080/"
        },
        "id": "RNHQWjuO8JOK",
        "outputId": "ef1043be-ddc3-462c-c87a-e606a5e9bfc8"
      },
      "execution_count": null,
      "outputs": [
        {
          "output_type": "stream",
          "name": "stdout",
          "text": [
            "Mean:  1.239\n",
            "Standard Deviation:  0.193\n"
          ]
        }
      ]
    },
    {
      "cell_type": "markdown",
      "source": [
        "**a.  Build 99% Confidence Interval Using Sample Standard Deviation**\n",
        "\n",
        "Assuming the sample is representative of the population, construct a 99% confidence interval for the mean number of characters printed before the print-head fails using the sample standard deviation. Explain the steps you take and the rationale behind using the t-distribution for this task."
      ],
      "metadata": {
        "id": "FQh6-09j8bko"
      }
    },
    {
      "cell_type": "code",
      "source": [
        "from scipy.stats import t\n",
        "t = round(t.ppf(0.99, df=(len(data)-1)),3) # Calculate the t value for a 99% confidence interval\n",
        "t"
      ],
      "metadata": {
        "colab": {
          "base_uri": "https://localhost:8080/"
        },
        "id": "cByZgkGB8nkE",
        "outputId": "b3e9b789-0387-41c6-f8d4-159315ef6b01"
      },
      "execution_count": null,
      "outputs": [
        {
          "output_type": "execute_result",
          "data": {
            "text/plain": [
              "2.624"
            ]
          },
          "metadata": {},
          "execution_count": 3
        }
      ]
    },
    {
      "cell_type": "code",
      "source": [
        "Marginal_Error = t*(stan_dev/(len(data)**0.5)) #Claculating the marginal error\n",
        "Marginal_Error = round(Marginal_Error,3) #make marginal error upto 3 decimal value\n",
        "print(\"Marginal Error: \",Marginal_Error) #displaying the marginal error"
      ],
      "metadata": {
        "colab": {
          "base_uri": "https://localhost:8080/"
        },
        "id": "fSNmcsVC8sf1",
        "outputId": "fbbcb1e6-75ef-4b5a-c445-54ae69271beb"
      },
      "execution_count": null,
      "outputs": [
        {
          "output_type": "stream",
          "name": "stdout",
          "text": [
            "Marginal Error:  0.131\n"
          ]
        }
      ]
    },
    {
      "cell_type": "code",
      "source": [
        "print(\"Lower Limit: \",mean-Marginal_Error) #Displaying the lower limit in confidence interval\n",
        "print(\"Upper Limit: \",mean+Marginal_Error) #Displaying the upper limit in confidence interval"
      ],
      "metadata": {
        "colab": {
          "base_uri": "https://localhost:8080/"
        },
        "id": "9ZGNWlJl8yo-",
        "outputId": "9b0e7388-8624-4e43-d501-3d6c84357e4a"
      },
      "execution_count": null,
      "outputs": [
        {
          "output_type": "stream",
          "name": "stdout",
          "text": [
            "Lower Limit:  1.108\n",
            "Upper Limit:  1.37\n"
          ]
        }
      ]
    },
    {
      "cell_type": "code",
      "source": [
        "import numpy as np #importing the numpy library\n",
        "import scipy.stats as st #importing statistics library from scipy\n",
        "\n",
        "t_Boundaries = list(st.t.interval(0.99, len(data)-1, loc=np.mean(data), scale=st.sem(data))) #Calculating the confidence interval using built-in methods\n",
        "print(\"Lower Limit: \",round(t_Boundaries[0],3)) #Displaying lower limit of data upto 3 decimal\n",
        "print(\"Upper Limit: \",round(t_Boundaries[1],3)) #Displaying upper limit of data upto 3 decimal"
      ],
      "metadata": {
        "colab": {
          "base_uri": "https://localhost:8080/"
        },
        "id": "6i7JmzMF85vv",
        "outputId": "dbc95b7e-f3f4-4cd1-8229-c0552798d81d"
      },
      "execution_count": null,
      "outputs": [
        {
          "output_type": "stream",
          "name": "stdout",
          "text": [
            "Lower Limit:  1.09\n",
            "Upper Limit:  1.387\n"
          ]
        }
      ]
    },
    {
      "cell_type": "markdown",
      "source": [
        "From above outputs, I consider that the output by using built-in methods or manually calculated values are similar or almost equal.\n",
        "\n",
        "**Here is why I  used the t-distribution:**\n",
        "\n",
        "*   From the question, there is no mension about the standard deviation of population.\n",
        "*   When the population standard deviation is not mensioned then we go with the t-distribution else we go with z-distribution.\n",
        "\n",
        "**b. Build 99% Confidence Interval Using Known Population Standard Deviation**\n",
        "\n",
        "If it were known that the population standard deviation is 0.2 million characters, construct a 99% confidence interval for the mean number of characters printed before failure."
      ],
      "metadata": {
        "id": "igGhf48289UH"
      }
    },
    {
      "cell_type": "code",
      "source": [
        "from scipy.stats import norm\n",
        "z = round(norm.ppf(0.995),2) # Calculate the z value for a 99% confidence interval\n",
        "z"
      ],
      "metadata": {
        "colab": {
          "base_uri": "https://localhost:8080/"
        },
        "id": "Wh8UBex19qjP",
        "outputId": "e7347b68-dc73-4a3e-e6c5-9d4e585b2d56"
      },
      "execution_count": null,
      "outputs": [
        {
          "output_type": "execute_result",
          "data": {
            "text/plain": [
              "2.58"
            ]
          },
          "metadata": {},
          "execution_count": 7
        }
      ]
    },
    {
      "cell_type": "code",
      "source": [
        "Marginal_Error = z*(0.2/(len(data)**0.5)) #Calculating the marginal error with help of z(critical value)\n",
        "Marginal_Error = round(Marginal_Error,3) #Make the marginal error into 3 decimal\n",
        "print(\"Marginal Error: \",Marginal_Error) #Displaying marginal error"
      ],
      "metadata": {
        "colab": {
          "base_uri": "https://localhost:8080/"
        },
        "id": "3LO_o1Q89wAe",
        "outputId": "08bfe854-c0bc-4ba2-9ae1-9b7a66ac2ccb"
      },
      "execution_count": null,
      "outputs": [
        {
          "output_type": "stream",
          "name": "stdout",
          "text": [
            "Marginal Error:  0.133\n"
          ]
        }
      ]
    },
    {
      "cell_type": "code",
      "source": [
        "print(\"Lower Limit: \",round(mean-Marginal_Error,3))   #Displaying lower limit of data upto 3 decimal\n",
        "print(\"Upper Limit: \",round(mean+Marginal_Error,3))   #Displaying upper limit of data upto 3 decimal"
      ],
      "metadata": {
        "colab": {
          "base_uri": "https://localhost:8080/"
        },
        "id": "6WcuEi2y9x_c",
        "outputId": "ea663ee2-9803-43cf-b0a9-ef7312622f23"
      },
      "execution_count": null,
      "outputs": [
        {
          "output_type": "stream",
          "name": "stdout",
          "text": [
            "Lower Limit:  1.106\n",
            "Upper Limit:  1.372\n"
          ]
        }
      ]
    },
    {
      "cell_type": "code",
      "source": [
        "z_Boundaries = st.norm.interval(0.99, loc=np.mean(data), scale=st.sem(data)) #Calculating the confidence interval using built-in methods\n",
        "print(\"Lower Limit: \",round(z_Boundaries[0],3))                              #Displaying lower limit of data upto 3 decimal\n",
        "print(\"Upper Limit: \",round(z_Boundaries[1],3))                              #Displaying upper limit of data upto 3 decimal"
      ],
      "metadata": {
        "colab": {
          "base_uri": "https://localhost:8080/"
        },
        "id": "nY1jgMo694aE",
        "outputId": "a8761e40-e899-471a-97e0-550353260636"
      },
      "execution_count": null,
      "outputs": [
        {
          "output_type": "stream",
          "name": "stdout",
          "text": [
            "Lower Limit:  1.11\n",
            "Upper Limit:  1.367\n"
          ]
        }
      ]
    },
    {
      "cell_type": "markdown",
      "source": [
        "\n",
        "From above outputs, I consider that the output by using built-in methods or manually calculated values are similar or almost equal.\n"
      ],
      "metadata": {
        "id": "QfaITVL2-CVO"
      }
    },
    {
      "cell_type": "code",
      "source": [],
      "metadata": {
        "id": "8PrO-rj2-KlC"
      },
      "execution_count": null,
      "outputs": []
    }
  ]
}